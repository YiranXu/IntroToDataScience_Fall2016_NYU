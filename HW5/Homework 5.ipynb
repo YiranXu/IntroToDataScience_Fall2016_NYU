{
 "cells": [
  {
   "cell_type": "markdown",
   "metadata": {},
   "source": [
    "# Introduction to Data Science\n",
    "## Homework 5"
   ]
  },
  {
   "cell_type": "markdown",
   "metadata": {},
   "source": [
    "Student Name: Yiran Xu\n",
    "\n",
    "Student Netid: yx1350\n",
    "***"
   ]
  },
  {
   "cell_type": "markdown",
   "metadata": {},
   "source": [
    "### Part 1: Naive Bayes"
   ]
  },
  {
   "cell_type": "markdown",
   "metadata": {},
   "source": [
    "1\\. From your reading you know that the naive Bayes classifier works by calculating the conditional probabilities of each feature, $e_i$, occuring with each class $c$ and treating them independently. This results in the probability of a certain class occuring given a set of features, or a piece of evidence, $E$, as\n",
    "\n",
    "$$P(c \\mid E) = \\frac{p(e_1 \\mid c) \\cdot p(e_2 \\mid c) \\cdot \\cdot \\cdot p(e_k \\mid c) \\cdot p(c)}{p(E)}.$$\n",
    "\n",
    "The conditional probability of each piece of evidence occuring with a given class is given by\n",
    "\n",
    "$$P(e_i \\mid c) = \\frac{\\text{count}(e_i, c)}{\\text{count}(c)}.$$\n",
    "\n",
    "In the above equation $\\text{count}(e_i, c)$ is the number of documents in a given class that contain feature $e_i$ and $\\text{count}(c)$ is the number of documents that belong to class $c$. \n",
    "\n",
    "A common variation of the above is to use Laplace (sometimes called +1) smoothing. Recall the use of Laplace smoothing introduced toward the end of Chapter 3 in the section Probability Estimation. This is done in sklearn by setting `alpha=1` in the `BernoulliNB()` function (this is also the default behavior). The result of Laplace smoothing will slightly change the conditional probabilities,\n",
    "\n",
    "$$P(e_i \\mid c) = \\frac{\\text{count}(e_i, c) + 1}{\\text{count}(c) + 2}.$$\n",
    "\n",
    "In no more than **one paragraph**, describe why this is useful. Try to think of a case when not using Laplace smoothing would result in \"bad\" models. Try to give an example. Be precise."
   ]
  },
  {
   "cell_type": "markdown",
   "metadata": {},
   "source": [
    "#### Answer:\n",
    "By using laplace smoothing, one can avoid zero probability values. Thus, one can avoid overfitting. For example, if a feature $e_i$ never happened in the training set given the class $c$. That is, $\\text{count}(e_i, c)=0$, then without laplace smoothing, \n",
    "$$P(e_i \\mid c) = \\frac{\\text{count}(e_i, c)}{\\text{count}(c)}=0.$$ Thus, $P(c \\mid E)=0$. Therefore, no matter how strong evidences the other features $e_2$ to $e_k$ are toward class c, $P(c \\mid E)$ will be zero. This is overfitting. Thus, to avoid the zero probability values, we can use laplace smoothing."
   ]
  },
  {
   "cell_type": "markdown",
   "metadata": {},
   "source": [
    "### Part 2: Text classification for sentiment analysis\n",
    "For this part of the assignment, we are going to use a data set of movie ratings from IMDB.com. The data consists of the text of a movie review and a target variable which tells us whether the reviewer had a positive feeling towards the movie (equivalent to rating the movie between 7 and 10) or a negative feeling (rating the movie between 1 and 4). Neutral reactions are not included in the data.\n",
    "\n",
    "The data are located in \"`data/imdb.csv`\". The first column is the review text; the second is the text label 'P' for positive or 'N' for negative."
   ]
  },
  {
   "cell_type": "markdown",
   "metadata": {},
   "source": [
    "1\\. Load the data into a pandas `DataFrame()`."
   ]
  },
  {
   "cell_type": "code",
   "execution_count": 1,
   "metadata": {
    "collapsed": true
   },
   "outputs": [],
   "source": [
    "import pandas as pd\n",
    "data = pd.read_csv('imdb.csv') "
   ]
  },
  {
   "cell_type": "code",
   "execution_count": 2,
   "metadata": {
    "collapsed": false
   },
   "outputs": [
    {
     "data": {
      "text/html": [
       "<div>\n",
       "<table border=\"1\" class=\"dataframe\">\n",
       "  <thead>\n",
       "    <tr style=\"text-align: right;\">\n",
       "      <th></th>\n",
       "      <th>Text</th>\n",
       "      <th>Class</th>\n",
       "    </tr>\n",
       "  </thead>\n",
       "  <tbody>\n",
       "    <tr>\n",
       "      <th>0</th>\n",
       "      <td>'One of the first of the best musicals Anchors...</td>\n",
       "      <td>P</td>\n",
       "    </tr>\n",
       "    <tr>\n",
       "      <th>1</th>\n",
       "      <td>'Visually disjointed and full of itself the di...</td>\n",
       "      <td>N</td>\n",
       "    </tr>\n",
       "    <tr>\n",
       "      <th>2</th>\n",
       "      <td>'These type of movies about young teenagers st...</td>\n",
       "      <td>P</td>\n",
       "    </tr>\n",
       "    <tr>\n",
       "      <th>3</th>\n",
       "      <td>'I would rather of had my eyes gouged out with...</td>\n",
       "      <td>N</td>\n",
       "    </tr>\n",
       "    <tr>\n",
       "      <th>4</th>\n",
       "      <td>'The title says it all. Tail Gunner Joe was a ...</td>\n",
       "      <td>N</td>\n",
       "    </tr>\n",
       "  </tbody>\n",
       "</table>\n",
       "</div>"
      ],
      "text/plain": [
       "                                                Text Class\n",
       "0  'One of the first of the best musicals Anchors...     P\n",
       "1  'Visually disjointed and full of itself the di...     N\n",
       "2  'These type of movies about young teenagers st...     P\n",
       "3  'I would rather of had my eyes gouged out with...     N\n",
       "4  'The title says it all. Tail Gunner Joe was a ...     N"
      ]
     },
     "execution_count": 2,
     "metadata": {},
     "output_type": "execute_result"
    }
   ],
   "source": [
    "#to be deleted\n",
    "data.head()"
   ]
  },
  {
   "cell_type": "code",
   "execution_count": 2,
   "metadata": {
    "collapsed": false
   },
   "outputs": [
    {
     "data": {
      "text/plain": [
       "(8500, 2)"
      ]
     },
     "execution_count": 2,
     "metadata": {},
     "output_type": "execute_result"
    }
   ],
   "source": [
    "data.shape"
   ]
  },
  {
   "cell_type": "markdown",
   "metadata": {},
   "source": [
    "2\\. Code the target variable to be numeric: use the value `1` to represent 'P' and `0` to represent 'N'."
   ]
  },
  {
   "cell_type": "code",
   "execution_count": 3,
   "metadata": {
    "collapsed": false
   },
   "outputs": [],
   "source": [
    "# Code here\n",
    "data['Class'] = pd.Series(data['Class'] == 'P', dtype=int)"
   ]
  },
  {
   "cell_type": "markdown",
   "metadata": {},
   "source": [
    "3\\. Put all of the text into a data frame called `X` and the target variable in a data frame called `Y`. Make a train/test split where you give 75% of the data to training."
   ]
  },
  {
   "cell_type": "code",
   "execution_count": 4,
   "metadata": {
    "collapsed": false
   },
   "outputs": [],
   "source": [
    "from sklearn.cross_validation import train_test_split\n",
    "\n",
    "X = data['Text']\n",
    "Y = data['Class']\n",
    "\n",
    "X_train, X_test, Y_train, Y_test = train_test_split(X, Y, train_size=.75)"
   ]
  },
  {
   "cell_type": "code",
   "execution_count": 5,
   "metadata": {
    "collapsed": false
   },
   "outputs": [
    {
     "data": {
      "text/plain": [
       "(6375,)"
      ]
     },
     "execution_count": 5,
     "metadata": {},
     "output_type": "execute_result"
    }
   ],
   "source": [
    "X_train.shape"
   ]
  },
  {
   "cell_type": "markdown",
   "metadata": {},
   "source": [
    "4\\. Create a binary `CountVectorizer()` and `TfidfVectorizer()`. Use the original single words as well as bigrams. Also, use an \"english\" stop word list. Fit these to the training data to extract a vocabulary and then transform both the train and test data."
   ]
  },
  {
   "cell_type": "code",
   "execution_count": 6,
   "metadata": {
    "collapsed": false
   },
   "outputs": [],
   "source": [
    "from sklearn.feature_extraction.text import CountVectorizer\n",
    "from sklearn.feature_extraction.text import TfidfVectorizer\n",
    "\n",
    "#Create a binary CountVectorizer()\n",
    "#use original single words as well as bigrams(bigrams means two words)\n",
    "\n",
    "count_vectorizer_single = CountVectorizer(binary=True,ngram_range=(1, 2),stop_words='english')\n",
    "#count_vectorizer_single = CountVectorizer(binary=True,stop_words='english')\n",
    "count_vectorizer_single.fit(X_train)\n",
    "X_train_count_single = count_vectorizer_single.transform(X_train)\n",
    "X_test_count_single = count_vectorizer_single.transform(X_test)\n",
    "\n",
    "\n",
    "#TfidfVectorizer()\n",
    "#tfidf_vectorizer_single = TfidfVectorizer(binary=True,stop_words='english')\n",
    "tfidf_vectorizer_single = TfidfVectorizer(ngram_range=(1, 2),stop_words='english')\n",
    "tfidf_vectorizer_single .fit(X_train)\n",
    "\n",
    "\n",
    "X_train_tfidf_single= tfidf_vectorizer_single.transform(X_train)\n",
    "X_test_tfidf_single= tfidf_vectorizer_single.transform(X_test)\n",
    "\n",
    "\n"
   ]
  },
  {
   "cell_type": "code",
   "execution_count": 8,
   "metadata": {
    "collapsed": false
   },
   "outputs": [
    {
     "data": {
      "text/plain": [
       "['survive parents',\n",
       " 'accents whacky',\n",
       " 'fights constant',\n",
       " 'flashback sequence',\n",
       " 'having picked',\n",
       " 'actually scoring',\n",
       " 'wasnt enthusiastic',\n",
       " 'person pushed',\n",
       " 'sense interrelationships',\n",
       " 'worse end']"
      ]
     },
     "execution_count": 8,
     "metadata": {},
     "output_type": "execute_result"
    }
   ],
   "source": [
    "list(count_vectorizer_single.vocabulary_.keys())[0:10]\n",
    "list(tfidf_vectorizer_single.vocabulary_.keys())[0:10]"
   ]
  },
  {
   "cell_type": "markdown",
   "metadata": {},
   "source": [
    "4\\. Create `LogisticRegression()` and `BernoulliNB()` models. For all settings, keep the default values. In a single plot, show the AUC curve for both classifiers and both the binary and tfidf feature sets. In the legend, include the area under the ROC curve (AUC). Do not forget to label your axes. Your final plot will be a single window with 4 curves.\n",
    "\n",
    "Which model do you think does a better job? Why? Explain in no more than a paragraph."
   ]
  },
  {
   "cell_type": "code",
   "execution_count": 9,
   "metadata": {
    "collapsed": true
   },
   "outputs": [],
   "source": [
    "# Run this so your plots show properly\n",
    "import matplotlib.pyplot as plt\n",
    "%matplotlib inline\n",
    "plt.rcParams['figure.figsize'] = 12, 12"
   ]
  },
  {
   "cell_type": "code",
   "execution_count": 10,
   "metadata": {
    "collapsed": false
   },
   "outputs": [
    {
     "data": {
      "text/plain": [
       "LogisticRegression(C=1.0, class_weight=None, dual=False, fit_intercept=True,\n",
       "          intercept_scaling=1, max_iter=100, multi_class='ovr', n_jobs=1,\n",
       "          penalty='l2', random_state=None, solver='liblinear', tol=0.0001,\n",
       "          verbose=0, warm_start=False)"
      ]
     },
     "execution_count": 10,
     "metadata": {},
     "output_type": "execute_result"
    }
   ],
   "source": [
    "from sklearn.linear_model import LogisticRegression\n",
    "from sklearn.naive_bayes import BernoulliNB\n",
    "from sklearn import metrics\n",
    "# Logistic Regression for CountVectorizer single word\n",
    "LogisticModel = LogisticRegression()\n",
    "LogisticModel.fit(X_train_count_single,Y_train)\n",
    "#print (\"Area under the ROC curve on the test data = %.3f\" % metrics.roc_auc_score(LogisticModel.predict(X_test_count_single), Y_test)  )\n",
    "\n"
   ]
  },
  {
   "cell_type": "code",
   "execution_count": 11,
   "metadata": {
    "collapsed": false
   },
   "outputs": [
    {
     "data": {
      "text/plain": [
       "LogisticRegression(C=1.0, class_weight=None, dual=False, fit_intercept=True,\n",
       "          intercept_scaling=1, max_iter=100, multi_class='ovr', n_jobs=1,\n",
       "          penalty='l2', random_state=None, solver='liblinear', tol=0.0001,\n",
       "          verbose=0, warm_start=False)"
      ]
     },
     "execution_count": 11,
     "metadata": {},
     "output_type": "execute_result"
    }
   ],
   "source": [
    "# Logistic Regression for TfidfVectorizer single word\n",
    "LogisticModel_tfidf = LogisticRegression()\n",
    "LogisticModel_tfidf.fit(X_train_tfidf_single, Y_train)\n",
    "\n",
    "#print (\"Area under the ROC curve on the test data = %.3f\" % metrics.roc_auc_score(LogisticModel_tfidf.predict(X_test_tfidf_signle), Y_test))"
   ]
  },
  {
   "cell_type": "code",
   "execution_count": 12,
   "metadata": {
    "collapsed": false
   },
   "outputs": [
    {
     "data": {
      "text/plain": [
       "BernoulliNB(alpha=1.0, binarize=0.0, class_prior=None, fit_prior=True)"
      ]
     },
     "execution_count": 12,
     "metadata": {},
     "output_type": "execute_result"
    }
   ],
   "source": [
    "from sklearn.naive_bayes import BernoulliNB\n",
    "#BernoulliNB for CountVectorizer single word\n",
    "BernoulliModel_count =BernoulliNB()\n",
    "BernoulliModel_count.fit(X_train_count_single, Y_train)"
   ]
  },
  {
   "cell_type": "code",
   "execution_count": 13,
   "metadata": {
    "collapsed": false
   },
   "outputs": [
    {
     "data": {
      "text/plain": [
       "BernoulliNB(alpha=1.0, binarize=0.0, class_prior=None, fit_prior=True)"
      ]
     },
     "execution_count": 13,
     "metadata": {},
     "output_type": "execute_result"
    }
   ],
   "source": [
    "##BernoulliNB for TfidfVectorizer single word\n",
    "BernoulliModel_tfidf =BernoulliNB()\n",
    "BernoulliModel_tfidf.fit(X_train_tfidf_single, Y_train)"
   ]
  },
  {
   "cell_type": "code",
   "execution_count": 14,
   "metadata": {
    "collapsed": true
   },
   "outputs": [],
   "source": [
    "#Function for plotting ROC (AUC)\n",
    "import numpy as np\n",
    "def plotUnivariateROC(preds, truth, label_string):\n",
    "    '''\n",
    "    preds is an nx1 array of predictions\n",
    "    truth is an nx1 array of truth labels\n",
    "    label_string is text to go into the plotting label\n",
    "    '''\n",
    "    #Student input code here\n",
    "    #1. call the roc_curve function to get the ROC X and Y values\n",
    "    fpr, tpr, thresholds = metrics.roc_curve(truth, preds)\n",
    "    #2. Input fpr and tpr into the auc function to get the AUC\n",
    "    roc_auc = metrics.auc(fpr, tpr)\n",
    "    \n",
    "    #we are doing this as a special case because we are sending unfitted predictions\n",
    "    #into the function\n",
    "    if roc_auc < 0.5:\n",
    "        fpr, tpr, thresholds = roc_curve(truth, -1 * preds)\n",
    "        roc_auc = auc(fpr, tpr)\n",
    "\n",
    "    #chooses a random color for plotting\n",
    "    c = (np.random.rand(), np.random.rand(), np.random.rand())\n",
    "\n",
    "    #create a plot and set some options\n",
    "    plt.plot(fpr, tpr, color = c, label = label_string + ' (AUC = %0.3f)' % roc_auc)\n",
    "    \n",
    "\n",
    "    plt.plot([0, 1], [0, 1], 'k--')\n",
    "    plt.xlim([0.0, 1.0])\n",
    "    plt.ylim([0.0, 1.0])\n",
    "    plt.xlabel('FPR')\n",
    "    plt.ylabel('TPR')\n",
    "    plt.title('ROC')\n",
    "    plt.legend(loc=\"lower right\")\n",
    "    \n",
    "    return roc_auc"
   ]
  },
  {
   "cell_type": "code",
   "execution_count": 16,
   "metadata": {
    "collapsed": false
   },
   "outputs": [
    {
     "data": {
      "text/plain": [
       "<matplotlib.legend.Legend at 0x115d808d0>"
      ]
     },
     "execution_count": 16,
     "metadata": {},
     "output_type": "execute_result"
    },
    {
     "data": {
      "image/png": "[encoded data removed]",
      "text/plain": [
       "<matplotlib.figure.Figure at 0x11a703ac8>"
      ]
     },
     "metadata": {},
     "output_type": "display_data"
    }
   ],
   "source": [
    "fig = plt.figure(figsize = (12, 6))\n",
    "ax = plt.subplot(111)\n",
    "\n",
    "#Plot the univariate AUC on the training data. Store the AUC\n",
    "\n",
    "#Student put code here\n",
    "#feature_auc_dict = {}\n",
    "#for col in data.drop('y_buy',1).columns:\n",
    "#feature_auc_dict[col] = plotUnivariateROC(data[col], Y, col)\n",
    "\n",
    "#plotUnivariateROC(LogisticModel.predict(X_test_count_single),Y_test, 'Logistic_CountVectorizer(single)')\n",
    "#plotUnivariateROC(LogisticModel_tfidf.predict(X_test_tfidf_signle),Y_test, 'Logistic_TfidfVectorizer(single)')\n",
    "#plotUnivariateROC(BernoulliModel_count.predict(X_test_count_single),Y_test, 'BernoulliModel_CountVectorizer(single)')\n",
    "#plotUnivariateROC(BernoulliModel_tfidf.predict(X_test_tfidf_signle),Y_test, 'BernoulliModel_TfidfVectorizer(single)')\n",
    "#plotUnivariateROC(LogisticModel2.predict(X_test_count_bigram),Y_test, 'Logistic_CountVectorizer(bigran)')\n",
    "#plotUnivariateROC(LogisticModel_tfidf2.predict(X_test_tfidf_bigram),Y_test, 'Logistic_TfidfVectorizer(bigran)')\n",
    "#plotUnivariateROC(BernoulliModel_count2.predict(X_test_count_bigram),Y_test, 'BernoulliModel_CountVectorizer(bigram)')\n",
    "#plotUnivariateROC(BernoulliModel_tfidf2.predict(X_test_tfidf_bigram),Y_test, 'BernoulliModel_TfidfVectorizer(bigram)')\n",
    "\n",
    "plotUnivariateROC(LogisticModel.predict_proba(X_test_count_single)[:,1],Y_test, 'Logistic_CountVectorizer')\n",
    "plotUnivariateROC(LogisticModel_tfidf.predict_proba(X_test_tfidf_single)[:,1],Y_test, 'Logistic_TfidfVectorizer')\n",
    "plotUnivariateROC(BernoulliModel_count.predict_proba(X_test_count_single)[:,1],Y_test, 'BernoulliModel_CountVectorizer')\n",
    "plotUnivariateROC(BernoulliModel_count.predict_proba(X_test_tfidf_single)[:,1],Y_test, 'BernoulliModel_TfidfVectorizer')\n",
    "#plotUnivariateROC(LogisticModel2.predict_proba(X_test_count_bigram)[:,1],Y_test, 'Logistic_CountVectorizer(bigran)')\n",
    "#plotUnivariateROC(LogisticModel_tfidf2.predict_proba(X_test_tfidf_bigram)[:,1],Y_test, 'Logistic_TfidfVectorizer(bigran)')\n",
    "#plotUnivariateROC(BernoulliModel_count2.predict_proba(X_test_count_bigram)[:,1],Y_test, 'BernoulliModel_CountVectorizer(bigram)')\n",
    "#plotUnivariateROC(BernoulliModel_tfidf2.predict_proba(X_test_tfidf_bigram)[:,1],Y_test, 'BernoulliModel_TfidfVectorizer(bigram)')\n",
    "\n",
    "\n",
    "\n",
    "# Put a legend below current axis\n",
    "box = ax.get_position()\n",
    "ax.set_position([box.x0, box.y0 + box.height * 0.0 , box.width, box.height * 1])\n",
    "ax.legend(loc = 'upper center', bbox_to_anchor = (0.5, -0.15), fancybox = True, \n",
    "              shadow = True, ncol = 4, prop = {'size':10})"
   ]
  },
  {
   "cell_type": "markdown",
   "metadata": {},
   "source": [
    "## Explaination: \n",
    "According to the graph above, logistic regression model is doing the best job. Specifically,Logistic regression with CountVectorizer is performing the best. The reasons are: Naive bayes model assumes that features are independent. Here, it means the BernoulliNB() model assumes that the words are independent. However, the words are not independent. Thus, the assumptions for BernoulliNB() is not met. Therefore, logistic regression performs better here. "
   ]
  },
  {
   "cell_type": "markdown",
   "metadata": {
    "collapsed": true
   },
   "source": [
    "5\\. Use the model from question 4 that you think did the best job and predict the rating of the test data. Find 5 examples the should have been positive, but were incorrectly classified as negative. Print out the reviews below and include an explanation as to why you think it may have been incorrectly classified. You can pick any 5. They do not have to be at random."
   ]
  },
  {
   "cell_type": "code",
   "execution_count": 23,
   "metadata": {
    "collapsed": false
   },
   "outputs": [
    {
     "name": "stdout",
     "output_type": "stream",
     "text": [
      "Real class is 0.Review is'Im a great admirer of Lon Chaney but the screen writing of this movie just did not work for me. The story jumps around oddly (Ive since learned that the film is missing a section) and characters appear and disappear with irritating suddenness. Some of the intertitles are overly explanatory (e.g. why youre not a child anymore!--cut back to picture for a long slow beat--youre a woman! yes we got it the first time) but there are a few talking sequences that beg for explanations that never appear. (Lets hear Luigi and his blond girlfriends argument please!) The plot which involves incestuous desires (figuratively if not technically) was disturbing to the point that it was hard to watch. To the writers credit this issue was treated as a problem and a May-December match is not portrayed as the right-and-good inevitability of some Mary Pickford films (e.g. Daddy-Long-Legs). Chaney gives a good performance as usual but I think he has been better-directed in the past--he overdid it a few times here IMHO. I did enjoy the clown sequences and was very impressed at the stunts. Loretta Young was charming though astonishingly young. The film has its moments but so far its my least-favorite Chaney picture.'\n",
      "Real class is 1.Review is'I love it when they actually do a sports story well. So many in the past have been so hokey it was embarrassing to watch. Not this one. Its just a genuinely nice movie an old-fashioned type of story - and based on a real-life guy to did exactly what Dennis Quaid did in this film. He plays a high school coach who is talked into trying out late in life athletically-speaking to become a pitcher in professional baseball. Eventually he reaches his goal of making it to the Major Leagues even if it was a very brief stint. All the characters in here are nice people the kind you root for from Quaid to the players on his high school team to his little boy (Angus T. Jones now somewhat of a star on television.) Quaid is believable in playing Jim Morris because unlike actors in the past in sports films he knows how to throw a baseball. He looks like a pitcher a guy who could fire it 90-plus miles per hour. And most of this film is true as testified by the real-life pitcher in one the documentaries on the DVD. So if youre looking for a nice inspirational true life sports film you cant wrong with this one.'\n",
      "Real class is 0.Review is'I watched this film along with every other adaptation I could get my hands on- including seeing plays- in preparation for some academic research. The cinematography is very moving as is the music. Unfortunately all of the life was taken out of the story. I have never seen such an awful portrayal of Mr. Rochester. All of his most fundamental traits are gone. Where is his wit? Where is his passion? Scotts Rochester more closely resembles Rochesters foil St.John than the character from the novel. In fact the actor playing St.John in this adaptation played a passionate St.John while Scott is content to smash things or just stare at the ceiling (which he does all the time). I have no idea what they were thinking. I would like to give this film a slightly higher vote based on the wonderful music and cinematography but I honestly cant bear to see this film for too long because of George C. Scotts performance.'\n",
      "Real class is 0.Review is'I remember watching the BSG pilot. I can describe that night exactly. I remember what chair I sat in. That show was magic. It came alive. I enjoyed the first two years of BSG. I enjoyed parts of the third year even and I watched every episode of the fourth year totally faithfully in great hopes that it would somehow turn around. Well it didnt. I watched the Caprica pilot and was enthralled. There was hope for something good here. Then I started watching the regular episodes and they are getting more and more boring. Its too obvious too predictable. It reminds me of the droll political correctness of his last failed show Virtuality. Much of his line work on DS9 was good. When he focused on BSG in an organized way it was good. This was especially true early on when they more or less followed the pattern of episodes set by the first BSG series. When they departed from that after meeting up with Admiral Cain and the Pegasus it all went to pot. It was like he wrote the rest of the show without knowing where he was going. Maybe it will improve. Maybe it was just a few weak initial episodes. But I am very very nervous.'\n",
      "Real class is 0.Review is'I borrowed this movie because not only because its gay theme but the thought of role playing really intrigued me. I was pleasantly surprised that it was shot in San Francisco since I live near SF. And of course it was nice to see shots of the Castro district (although the castro to me really caters more to gay male than female). But other than that I cant really recommend this movie. The characters arent really developed for me to care and when they finally started to get to the role playing I was already bored out of my mind. And the role playing scenes that I did see were a bit embarrassing to watch. The acting leaves something to be desired. Needless to say I didnt finish the movie. Id skip this one.'\n"
     ]
    }
   ],
   "source": [
    "# Code here to display 5 incorrect reviews.\n",
    "a=LogisticModel.predict(X_test_count_single)!=Y_test\n",
    "a\n",
    "b=a[a==True].index[0:5]\n",
    "b\n",
    "\n",
    "for i in range(len(b)):\n",
    "    print(\"Real class is {0}.Review is{1}\".format(Y_test[b[i]], X_test[b[i]]))\n",
    "#1 menas positive. 0 means negative."
   ]
  },
  {
   "cell_type": "markdown",
   "metadata": {},
   "source": [
    "### Explanation for the 5 reviews chosen here!\n",
    "1. For the first review: There are many positive words in this review, especially in last few sentences, such as \"good performance\", \"better-directed\", \"enjoy\", \"impressed\", \"charming\". Thus, this review was classified as \"positive\" while it is actually a negative review.\n",
    "2. For the second review: This review wrote about other similar movies first using words as \"hokey\", \"embarrassing\". Then, the writer wrote a lot of discriptive sentences in neutral tone. Thus, this review was classified as \"negative\" while it is actually a positive review. \n",
    "3. For the third review: This review has some positive words such as \"very moving\", \"passionate\", \"higher vote\", higher vote\". Thus, this review was classified as \"positive\" while it is actually a negative review.\n",
    "4. Fort the forth review: This one was like the first one. The reviewer used a lot of positive words in the begining to describe the pilot. Those words are \"magic\", \"came alive\", \"enjoy\", \"faithfully\", \"faithfully\", \"enthralled\", \"good\". Then, the reviewer began writing about the real review. Altough the reviewer did use some negative words, but negative words are not as much as positive onew.  Thus, this review was classified as \"positive\" while it is actually a negative review.\n",
    "5. For the fifth review: This one used some positive words such as \"intrigued\", \"pleasantly surprised\", \"nice\" to describe the mood before watching the movie. Then, the reviewer used word like \"recommend\", \"really developed\", \"desired\". With some stopwords being removed, these words alone are positive. Thus, this review was classified as \"positive\" while it is actually a negative review."
   ]
  }
 ],
 "metadata": {
  "anaconda-cloud": {},
  "kernelspec": {
   "display_name": "Python [Root]",
   "language": "python",
   "name": "Python [Root]"
  },
  "language_info": {
   "codemirror_mode": {
    "name": "ipython",
    "version": 3
   },
   "file_extension": ".py",
   "mimetype": "text/x-python",
   "name": "python",
   "nbconvert_exporter": "python",
   "pygments_lexer": "ipython3",
   "version": "3.5.2"
  }
 },
 "nbformat": 4,
 "nbformat_minor": 0
}
