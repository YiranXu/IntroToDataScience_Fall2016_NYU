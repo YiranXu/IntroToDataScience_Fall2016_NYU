{
 "cells": [
  {
   "cell_type": "markdown",
   "metadata": {},
   "source": [
    "# Introduction to Data Science\n",
    "## Homework 3"
   ]
  },
  {
   "cell_type": "markdown",
   "metadata": {},
   "source": [
    "Student Name: Yiran Xu\n",
    "\n",
    "Student Netid: yx1350\n",
    "***"
   ]
  },
  {
   "cell_type": "markdown",
   "metadata": {},
   "source": [
    "### Part 1\n",
    "Assume that $X$ and $Y$ are discrete random variables. The formulas for Mutual Information, Entropy and Conditional Entropy are given by:\n",
    "\n",
    "$$\\text{Mutual Information} = \\sum_{y \\in Y} \\sum_{x \\in X} p(x, y) \\cdot log\\frac{p(x, y)}{p(x)p(y)}$$\n",
    "\n",
    "$$\\text{Entropy} = H(Y) = -\\sum_{y \\in Y} p(y) \\cdot log(p(y))$$\n",
    "\n",
    "$$\\text{Conditional Entropy} = H(Y \\mid X) = \\sum_{x \\in X} p(x) \\cdot H(Y \\mid X = x)$$\n",
    "\n",
    "Show mathematically that $\\text{Mutual Information} = \\text{Information Gain}$, where $\\text{Information Gain} = H(Y) – H(Y \\mid X)$. Give the derivation below (note, this can be done using Latek math notation, which renders nicely. See above. Feel free to do it by hand and submit an image of your proof)."
   ]
  },
  {
   "cell_type": "markdown",
   "metadata": {},
   "source": [
    "![title](./IMG_2662.JPG)"
   ]
  },
  {
   "cell_type": "markdown",
   "metadata": {},
   "source": [
    "### Part 2 - Preparing a Training Set and Training a Decision Tree\n",
    "This is a hands-on task where we build a predictive model using Decision Trees discussed in class. For this part, we will be using the data in `cell2cell_data.csv`.\n",
    "\n",
    "These historical data consist of 39,859 customers: 19,901 customers that churned (i.e., left the company) and 19,958 that did not churn (see the `\"churndep\"` variable). Here are the data set's 11 possible predictor variables for churning behavior: \n",
    "\n",
    "```\n",
    "Pos.  Var. Name  Var. Description\n",
    "----- ---------- --------------------------------------------------------------\n",
    "1     revenue    Mean monthly revenue in dollars\n",
    "2     outcalls   Mean number of outbound voice calls\n",
    "3     incalls    Mean number of inbound voice calls\n",
    "4     months     Months in Service\n",
    "5     eqpdays    Number of days the customer has had his/her current equipment\n",
    "6     webcap     Handset is web capable\n",
    "7     marryyes   Married (1=Yes; 0=No)\n",
    "8     travel     Has traveled to non-US country (1=Yes; 0=No)\n",
    "9     pcown      Owns a personal computer (1=Yes; 0=No)\n",
    "10    creditcd   Possesses a credit card (1=Yes; 0=No)\n",
    "11    retcalls   Number of calls previously made to retention team\n",
    "```\n",
    "\n",
    "The 12th column, the dependent variable `\"churndep\"`, equals 1 if the customer churned, and 0 otherwise. "
   ]
  },
  {
   "cell_type": "markdown",
   "metadata": {},
   "source": [
    "1\\. Load the data and prepare it for modeling. Note that the features are already processed for you, so the only thing needed here is split the data into training and testing. Use pandas to create two data frames: train_df and test_df, where train_df has 80% of the data chosen uniformly at random without replacement (test_df should have the other 20%). Also, make sure to write your own code to do the splits. You may use any random() function numpy but DO NOT use the data splitting functions from Sklearn."
   ]
  },
  {
   "cell_type": "code",
   "execution_count": 1,
   "metadata": {
    "collapsed": false
   },
   "outputs": [
    {
     "name": "stderr",
     "output_type": "stream",
     "text": [
      "/Users/yiranxu/anaconda/lib/python3.5/site-packages/ipykernel/__main__.py:8: VisibleDeprecationWarning: using a non-integer number instead of an integer will result in an error in the future\n"
     ]
    }
   ],
   "source": [
    "import pandas as pd\n",
    "import numpy as np\n",
    "#name each columns\n",
    "ColNames=['revenue','outcalls','incalls','months','eqpdays','webcap','marryyes','travel','pcown','creditcd','retcalls','churndep']\n",
    "#load data and give names to each column\n",
    "allData=pd.read_csv('./cell2cell_data.csv',header=None, names=ColNames) \n",
    "#uniform random sample from 0 to 39859 of size (39859*0.8)\n",
    "indexes_train= np.random.choice(39859,39859*0.8,replace=False) \n",
    "\n",
    "train_df=allData.loc[indexes_train]  #select corresponding rows\n",
    "\n",
    "train_df\n",
    "\n",
    "#split train and test data\n",
    "a=np.arange(39859) #make an array from 0 to 39859\n",
    "\n",
    "new_a=np.delete(a,indexes_train) #remove number selected for training data from the array \"a\"\n",
    "test_df=allData.loc[new_a] #select cooresplonding rwos of new_a\n",
    "#test_df\n",
    "\n"
   ]
  },
  {
   "cell_type": "code",
   "execution_count": 2,
   "metadata": {
    "collapsed": false
   },
   "outputs": [
    {
     "data": {
      "text/html": [
       "<div>\n",
       "<table border=\"1\" class=\"dataframe\">\n",
       "  <thead>\n",
       "    <tr style=\"text-align: right;\">\n",
       "      <th></th>\n",
       "      <th>revenue</th>\n",
       "      <th>outcalls</th>\n",
       "      <th>incalls</th>\n",
       "      <th>months</th>\n",
       "      <th>eqpdays</th>\n",
       "      <th>webcap</th>\n",
       "      <th>marryyes</th>\n",
       "      <th>travel</th>\n",
       "      <th>pcown</th>\n",
       "      <th>creditcd</th>\n",
       "      <th>retcalls</th>\n",
       "      <th>churndep</th>\n",
       "    </tr>\n",
       "  </thead>\n",
       "  <tbody>\n",
       "    <tr>\n",
       "      <th>count</th>\n",
       "      <td>39859.000000</td>\n",
       "      <td>39859.000000</td>\n",
       "      <td>39859.000000</td>\n",
       "      <td>39859.000000</td>\n",
       "      <td>39859.000000</td>\n",
       "      <td>39859.000000</td>\n",
       "      <td>39859.000000</td>\n",
       "      <td>39859.000000</td>\n",
       "      <td>39859.000000</td>\n",
       "      <td>39859.000000</td>\n",
       "      <td>39859.000000</td>\n",
       "      <td>39859.000000</td>\n",
       "    </tr>\n",
       "    <tr>\n",
       "      <th>mean</th>\n",
       "      <td>58.633816</td>\n",
       "      <td>24.874208</td>\n",
       "      <td>8.011796</td>\n",
       "      <td>18.789332</td>\n",
       "      <td>391.935723</td>\n",
       "      <td>0.895456</td>\n",
       "      <td>0.365338</td>\n",
       "      <td>0.057101</td>\n",
       "      <td>0.185378</td>\n",
       "      <td>0.675908</td>\n",
       "      <td>0.043955</td>\n",
       "      <td>0.499285</td>\n",
       "    </tr>\n",
       "    <tr>\n",
       "      <th>std</th>\n",
       "      <td>44.142467</td>\n",
       "      <td>34.702038</td>\n",
       "      <td>16.626837</td>\n",
       "      <td>9.594723</td>\n",
       "      <td>255.609575</td>\n",
       "      <td>0.305968</td>\n",
       "      <td>0.481531</td>\n",
       "      <td>0.232039</td>\n",
       "      <td>0.388609</td>\n",
       "      <td>0.468041</td>\n",
       "      <td>0.224172</td>\n",
       "      <td>0.500006</td>\n",
       "    </tr>\n",
       "    <tr>\n",
       "      <th>min</th>\n",
       "      <td>-5.860000</td>\n",
       "      <td>0.000000</td>\n",
       "      <td>0.000000</td>\n",
       "      <td>6.000000</td>\n",
       "      <td>-5.000000</td>\n",
       "      <td>0.000000</td>\n",
       "      <td>0.000000</td>\n",
       "      <td>0.000000</td>\n",
       "      <td>0.000000</td>\n",
       "      <td>0.000000</td>\n",
       "      <td>0.000000</td>\n",
       "      <td>0.000000</td>\n",
       "    </tr>\n",
       "    <tr>\n",
       "      <th>25%</th>\n",
       "      <td>33.370000</td>\n",
       "      <td>3.000000</td>\n",
       "      <td>0.000000</td>\n",
       "      <td>11.000000</td>\n",
       "      <td>212.000000</td>\n",
       "      <td>1.000000</td>\n",
       "      <td>0.000000</td>\n",
       "      <td>0.000000</td>\n",
       "      <td>0.000000</td>\n",
       "      <td>0.000000</td>\n",
       "      <td>0.000000</td>\n",
       "      <td>0.000000</td>\n",
       "    </tr>\n",
       "    <tr>\n",
       "      <th>50%</th>\n",
       "      <td>48.370000</td>\n",
       "      <td>13.000000</td>\n",
       "      <td>2.000000</td>\n",
       "      <td>16.000000</td>\n",
       "      <td>341.000000</td>\n",
       "      <td>1.000000</td>\n",
       "      <td>0.000000</td>\n",
       "      <td>0.000000</td>\n",
       "      <td>0.000000</td>\n",
       "      <td>1.000000</td>\n",
       "      <td>0.000000</td>\n",
       "      <td>0.000000</td>\n",
       "    </tr>\n",
       "    <tr>\n",
       "      <th>75%</th>\n",
       "      <td>70.930000</td>\n",
       "      <td>33.330000</td>\n",
       "      <td>8.670000</td>\n",
       "      <td>24.000000</td>\n",
       "      <td>530.000000</td>\n",
       "      <td>1.000000</td>\n",
       "      <td>1.000000</td>\n",
       "      <td>0.000000</td>\n",
       "      <td>0.000000</td>\n",
       "      <td>1.000000</td>\n",
       "      <td>0.000000</td>\n",
       "      <td>1.000000</td>\n",
       "    </tr>\n",
       "    <tr>\n",
       "      <th>max</th>\n",
       "      <td>861.110000</td>\n",
       "      <td>610.330000</td>\n",
       "      <td>519.330000</td>\n",
       "      <td>61.000000</td>\n",
       "      <td>1823.000000</td>\n",
       "      <td>1.000000</td>\n",
       "      <td>1.000000</td>\n",
       "      <td>1.000000</td>\n",
       "      <td>1.000000</td>\n",
       "      <td>1.000000</td>\n",
       "      <td>4.000000</td>\n",
       "      <td>1.000000</td>\n",
       "    </tr>\n",
       "  </tbody>\n",
       "</table>\n",
       "</div>"
      ],
      "text/plain": [
       "            revenue      outcalls       incalls        months       eqpdays  \\\n",
       "count  39859.000000  39859.000000  39859.000000  39859.000000  39859.000000   \n",
       "mean      58.633816     24.874208      8.011796     18.789332    391.935723   \n",
       "std       44.142467     34.702038     16.626837      9.594723    255.609575   \n",
       "min       -5.860000      0.000000      0.000000      6.000000     -5.000000   \n",
       "25%       33.370000      3.000000      0.000000     11.000000    212.000000   \n",
       "50%       48.370000     13.000000      2.000000     16.000000    341.000000   \n",
       "75%       70.930000     33.330000      8.670000     24.000000    530.000000   \n",
       "max      861.110000    610.330000    519.330000     61.000000   1823.000000   \n",
       "\n",
       "             webcap      marryyes        travel         pcown      creditcd  \\\n",
       "count  39859.000000  39859.000000  39859.000000  39859.000000  39859.000000   \n",
       "mean       0.895456      0.365338      0.057101      0.185378      0.675908   \n",
       "std        0.305968      0.481531      0.232039      0.388609      0.468041   \n",
       "min        0.000000      0.000000      0.000000      0.000000      0.000000   \n",
       "25%        1.000000      0.000000      0.000000      0.000000      0.000000   \n",
       "50%        1.000000      0.000000      0.000000      0.000000      1.000000   \n",
       "75%        1.000000      1.000000      0.000000      0.000000      1.000000   \n",
       "max        1.000000      1.000000      1.000000      1.000000      1.000000   \n",
       "\n",
       "           retcalls      churndep  \n",
       "count  39859.000000  39859.000000  \n",
       "mean       0.043955      0.499285  \n",
       "std        0.224172      0.500006  \n",
       "min        0.000000      0.000000  \n",
       "25%        0.000000      0.000000  \n",
       "50%        0.000000      0.000000  \n",
       "75%        0.000000      1.000000  \n",
       "max        4.000000      1.000000  "
      ]
     },
     "execution_count": 2,
     "metadata": {},
     "output_type": "execute_result"
    }
   ],
   "source": [
    "allData.describe()"
   ]
  },
  {
   "cell_type": "markdown",
   "metadata": {},
   "source": [
    "2\\. If we had to, how would we prove to ourselves or a colleague that our data was indeed randomly sampled on X? And by prove, I mean empirically, not just showing this person our code. Don't actually do the work, just describe in your own words a test you could here. Hint: think about this in terms of selection bias and use notes from our 2nd lecture."
   ]
  },
  {
   "cell_type": "markdown",
   "metadata": {},
   "source": [
    "We can run a test to see whether the rate of churn in training data is the same as the rate of churn in the whole dataset, and the the rate of churn in testing data is the same as the rate of churn in the whole dataset. That is, P(churn/training)=P(churn) and P(churn/testing)=P(churn).\n",
    "(This means there is no selection bias. Being in the training set or testing set is independent of being churn or not.)"
   ]
  },
  {
   "cell_type": "markdown",
   "metadata": {},
   "source": [
    "3\\. Now build and train a decision tree classifier using `DecisionTreeClassifier()` [(manual page)](http://scikit-learn.org/stable/modules/generated/sklearn.tree.DecisionTreeClassifier.html) on train_df to predict the `\"churndep\"` target variable. Make sure to use `criterion='entropy'` when instantiating an instance of `DecisionTreeClassifier()`. For all other settings you should use all of the default options."
   ]
  },
  {
   "cell_type": "code",
   "execution_count": 29,
   "metadata": {
    "collapsed": false
   },
   "outputs": [],
   "source": [
    "import sklearn\n",
    "from sklearn.tree import DecisionTreeClassifier, export_graphviz\n",
    "from IPython.display import Image\n",
    "import pydotplus\n",
    "\n",
    "from io import StringIO\n",
    "%matplotlib inline\n",
    "###\n",
    "\n",
    "dt = DecisionTreeClassifier(criterion='entropy')\n",
    "predictor_var=['revenue','outcalls','incalls','months','eqpdays','webcap','marryyes','travel','pcown','creditcd','retcalls']\n",
    "tree1=dt.fit(train_df[predictor_var],train_df['churndep'])"
   ]
  },
  {
   "cell_type": "markdown",
   "metadata": {},
   "source": [
    "4\\. Using the resulting model from 2.2, show a bar plot of feature names and their feature importance (hint: check the attributes of the `DecisionTreeClassifier()` object directly in IPython or check the manual!)."
   ]
  },
  {
   "cell_type": "code",
   "execution_count": 30,
   "metadata": {
    "collapsed": false
   },
   "outputs": [
    {
     "data": {
      "image/png": "[encoded data removed]",
      "text/plain": [
       "<matplotlib.figure.Figure at 0x1041a8588>"
      ]
     },
     "metadata": {},
     "output_type": "display_data"
    }
   ],
   "source": [
    "import matplotlib.pyplot as plt\n",
    "%matplotlib inline\n",
    "importances=tree1.feature_importances_\n",
    "y_pos = np.arange(len(predictor_var))\n",
    "\n",
    "plt.barh(y_pos, importances, align='center', alpha=0.5)\n",
    "plt.yticks(y_pos, predictor_var)\n",
    "plt.xlabel('importance')\n",
    "plt.title('Feature names')\n",
    " \n",
    "plt.show() "
   ]
  },
  {
   "cell_type": "markdown",
   "metadata": {},
   "source": [
    "5\\. Is the relationship between the top 3 most important features (as measured here) negative or positive? If your marketing director asked you to explain the top 3 drivers of churn, how would you interpret the relationship between these 3 features and the churn outcome?  What \"real-life\" connection can you draw between each variable and churn?"
   ]
  },
  {
   "cell_type": "code",
   "execution_count": 31,
   "metadata": {
    "collapsed": false
   },
   "outputs": [
    {
     "data": {
      "text/plain": [
       "array([[ 1.        , -0.01235876],\n",
       "       [-0.01235876,  1.        ]])"
      ]
     },
     "execution_count": 31,
     "metadata": {},
     "output_type": "execute_result"
    }
   ],
   "source": [
    "np.corrcoef(train_df['revenue'],train_df['churndep'])"
   ]
  },
  {
   "cell_type": "markdown",
   "metadata": {},
   "source": [
    "The relationship between 'revenue' and churn is negative. "
   ]
  },
  {
   "cell_type": "code",
   "execution_count": 148,
   "metadata": {
    "collapsed": false
   },
   "outputs": [
    {
     "data": {
      "text/plain": [
       "array([[ 1.        ,  0.11375911],\n",
       "       [ 0.11375911,  1.        ]])"
      ]
     },
     "execution_count": 148,
     "metadata": {},
     "output_type": "execute_result"
    }
   ],
   "source": [
    "np.corrcoef(train_df['eqpdays'],train_df['churndep'])"
   ]
  },
  {
   "cell_type": "markdown",
   "metadata": {},
   "source": [
    "The relationship between 'eqpdays' and churn is positive. "
   ]
  },
  {
   "cell_type": "code",
   "execution_count": 149,
   "metadata": {
    "collapsed": false
   },
   "outputs": [
    {
     "data": {
      "text/plain": [
       "array([[ 1.       , -0.0366753],\n",
       "       [-0.0366753,  1.       ]])"
      ]
     },
     "execution_count": 149,
     "metadata": {},
     "output_type": "execute_result"
    }
   ],
   "source": [
    "np.corrcoef(train_df['outcalls'],train_df['churndep'])"
   ]
  },
  {
   "cell_type": "markdown",
   "metadata": {},
   "source": [
    "The relationship between 'outcalls' and churn is negative. "
   ]
  },
  {
   "cell_type": "markdown",
   "metadata": {},
   "source": [
    "If my marketing director asked you to explain the top 3 drivers of churn, I would say the top three drivers of churn are \"Mean monthly revenue in dollars\",\"Number of days the customer has had his/her current equipment\" and \"Mean number of outbound voice calls\". \n",
    "Specifically, customers with lower mean monthly revenue are more likely to churn. Customers  having their current equipment for longer period are more likely to churn. Customers making lower number of outbound voice calls are more likely to churn. \n"
   ]
  },
  {
   "cell_type": "markdown",
   "metadata": {},
   "source": [
    "6\\. Using the classifier built in 2.2, try predicting `\"churndep\"` on both the train_df and test_df data sets. What is the accuracy on each?"
   ]
  },
  {
   "cell_type": "code",
   "execution_count": 32,
   "metadata": {
    "collapsed": false
   },
   "outputs": [
    {
     "data": {
      "text/plain": [
       "0.99974911405902089"
      ]
     },
     "execution_count": 32,
     "metadata": {},
     "output_type": "execute_result"
    }
   ],
   "source": [
    "# Code here\n",
    "#tree1.predict(train_df[predictor_var])\n",
    "tree1.score(train_df[predictor_var],train_df['churndep'])"
   ]
  },
  {
   "cell_type": "markdown",
   "metadata": {},
   "source": [
    "Accuracy on training data is around 0.9998."
   ]
  },
  {
   "cell_type": "code",
   "execution_count": 33,
   "metadata": {
    "collapsed": false
   },
   "outputs": [
    {
     "data": {
      "text/plain": [
       "0.53913697942799799"
      ]
     },
     "execution_count": 33,
     "metadata": {},
     "output_type": "execute_result"
    }
   ],
   "source": [
    "tree1.score(test_df[predictor_var],test_df['churndep'])"
   ]
  },
  {
   "cell_type": "markdown",
   "metadata": {},
   "source": [
    "Accuracy on testing data is around 0.53."
   ]
  },
  {
   "cell_type": "markdown",
   "metadata": {},
   "source": [
    "### Part 3 - Finding a Good Decision Tree\n",
    "The default options for your decision tree may not be optimal. We need to analyze whether tuning the parameters can improve the accuracy of the classifier.  For the following options `min_samples_split` and `min_samples_leaf`:"
   ]
  },
  {
   "cell_type": "markdown",
   "metadata": {},
   "source": [
    "1\\. Generate a list of 10 values of each for the parameters mim_samples_split and min_samples_leaf. "
   ]
  },
  {
   "cell_type": "code",
   "execution_count": 34,
   "metadata": {
    "collapsed": false
   },
   "outputs": [],
   "source": [
    "# Code here\n",
    "min_samples_split_values = list(range(100,1010,100)) \n",
    "#min_samples_split_values\n",
    "min_samples_leaf_values = list(range(100,1010,100))"
   ]
  },
  {
   "cell_type": "markdown",
   "metadata": {},
   "source": [
    "2\\. Explain in words your reasoning for choosing the above ranges."
   ]
  },
  {
   "cell_type": "markdown",
   "metadata": {},
   "source": [
    "### Answer:\n",
    "Because there are 39,859 samples in total,which is a big number, the minimum number of samples required to split an internal node(min_samples_split)and the minimum number of samples required to be at a leaf node (min_samples_leaf) should not be too small. \n",
    "\n",
    "I feel 100 is a good start to split. \"min_samples_split_values\" and \"min_samples_leaf_values\" that are less than 100 might be too small and result in overfitting. \n",
    "I use arithmetic sequence with difference=100 to generate the 10 values, so it's easier to see the changes in prediction due to changes in mim_samples_split and min_samples_leaf.\n",
    "\n",
    "After plotting the AUC using my chosen range for mim_samples_split and min_samples_leaf, I feel my choices is reasonable. We can see AUC rises to a peak and drops down (\"sweet plt\") among all number of leaves. "
   ]
  },
  {
   "cell_type": "markdown",
   "metadata": {},
   "source": [
    "3\\. For each combination of values in 3.1 (there should be 100), build a new classifier and check the classifier's accuracy on the test data. Plot the test set accuracy for these options. Use the values of `min_samples_split` as the x-axis and generate a new series (line) for each of `min_samples_leaf`."
   ]
  },
  {
   "cell_type": "code",
   "execution_count": 35,
   "metadata": {
    "collapsed": true
   },
   "outputs": [],
   "source": [
    "import matplotlib.pyplot as plt\n",
    "%matplotlib inline\n",
    "\n",
    "from sklearn.metrics import roc_auc_score\n",
    "# Code here\n",
    "def testTrees(X_train, y_train, X_test, y_test, split, leaf, auc):\n",
    "    clf = DecisionTreeClassifier(criterion='entropy', min_samples_leaf = leaf, min_samples_split = split)\n",
    "    clf = clf.fit(X_train, y_train)\n",
    "    if (auc==0):\n",
    "        cm = confusion_matrix(clf.predict(X_test), y_test)\n",
    "        return (cm[0][0] + cm[1][1]) / float(sum(cm))\n",
    "    else:\n",
    "        return roc_auc_score(y_test, clf.predict_proba(X_test)[:,1])"
   ]
  },
  {
   "cell_type": "code",
   "execution_count": 36,
   "metadata": {
    "collapsed": false
   },
   "outputs": [],
   "source": [
    "lab = 'churndep'\n",
    "\n",
    "splits = min_samples_split_values\n",
    "leaves = min_samples_leaf_values\n",
    "\n",
    "#Run all of the options\n",
    "run=1\n",
    "if (run == 1):\n",
    "    #Initialize dictionary of results\n",
    "    res = dict()\n",
    "    for d in splits:\n",
    "        res[d] = list()\n",
    "\n",
    "    #Now train and get results for each option\n",
    "    for d in splits:\n",
    "        for l in leaves:\n",
    "            res[d].append(testTrees(train_df.drop(lab, 1), train_df[lab], test_df.drop(lab, 1), test_df[lab], d, l, 1))\n",
    "            "
   ]
  },
  {
   "cell_type": "code",
   "execution_count": 37,
   "metadata": {
    "collapsed": false,
    "scrolled": true
   },
   "outputs": [
    {
     "data": {
      "text/plain": [
       "<matplotlib.text.Text at 0x112e0e780>"
      ]
     },
     "execution_count": 37,
     "metadata": {},
     "output_type": "execute_result"
    },
    {
     "data": {
      "image/png": "[encoded data removed]",
      "text/plain": [
       "<matplotlib.figure.Figure at 0x11a355128>"
      ]
     },
     "metadata": {},
     "output_type": "display_data"
    }
   ],
   "source": [
    "#Plot AUC as a measure of accuracy          \n",
    "fig = plt.figure()\n",
    "ax=fig.add_subplot(111)\n",
    "b=np.arange(0,10) #\n",
    "colors=['b','g','r','c','m','y','k','pink','violet','orange']\n",
    "for l,i in zip(b,range(len(colors))):\n",
    "    plt.plot(splits,res[splits[i]], colors[l], label = 'leaves={}'.format(leaves[i]))\n",
    "#label = 'leaves={}'.format(leaves[i]  \n",
    "                 #colors[l]\n",
    "plt.legend(bbox_to_anchor=(1.25, 1),loc = 10)\n",
    "ax.set_xlabel('min_samples_split')\n",
    "ax.set_ylabel('Test Set AUC')\n",
    "plt.title('Holdout AUC by Hyperparameters')"
   ]
  },
  {
   "cell_type": "markdown",
   "metadata": {},
   "source": [
    "4\\. Which configuration returns the best accuracy? What is this accuracy? (Note, if you don't see much variation in the test set accuracy across values of min_samples_split or min_samples_leaf, try redoing the above steps with a different range of values)."
   ]
  },
  {
   "cell_type": "code",
   "execution_count": 38,
   "metadata": {
    "collapsed": true
   },
   "outputs": [],
   "source": [
    "# Code here\n",
    "def testTreesAccuracy(X_train, y_train, X_test, y_test, split, leaf, auc):\n",
    "    clf = DecisionTreeClassifier(criterion='entropy', min_samples_leaf = leaf, min_samples_split = split)\n",
    "    clf = clf.fit(X_train, y_train)\n",
    "    if (auc==0):\n",
    "        cm = confusion_matrix(clf.predict(X_test), y_test)\n",
    "        return (cm[0][0] + cm[1][1]) / float(sum(cm))\n",
    "    else:\n",
    "        return clf.score(X_test, y_test)"
   ]
  },
  {
   "cell_type": "code",
   "execution_count": 39,
   "metadata": {
    "collapsed": false
   },
   "outputs": [],
   "source": [
    "\n",
    "#Run all of the options\n",
    "run=1\n",
    "if (run == 1):\n",
    "    #Initialize dictionary of results\n",
    "    res1 = dict()\n",
    "    for d in splits:\n",
    "        res1[d] = list()\n",
    "\n",
    "    #Now train and get results for each option\n",
    "    for d in splits:\n",
    "        for l in leaves:\n",
    "            res1[d].append(testTreesAccuracy(train_df.drop(lab, 1), train_df[lab], test_df.drop(lab, 1), test_df[lab], d, l, 1))\n"
   ]
  },
  {
   "cell_type": "code",
   "execution_count": 40,
   "metadata": {
    "collapsed": false
   },
   "outputs": [
    {
     "data": {
      "text/plain": [
       "<matplotlib.text.Text at 0x11956ae10>"
      ]
     },
     "execution_count": 40,
     "metadata": {},
     "output_type": "execute_result"
    },
    {
     "data": {
      "image/png": "[encoded data removed]",
      "text/plain": [
       "<matplotlib.figure.Figure at 0x111b12828>"
      ]
     },
     "metadata": {},
     "output_type": "display_data"
    }
   ],
   "source": [
    "fig = plt.figure()\n",
    "ax=fig.add_subplot(111)\n",
    "b=np.arange(0,10) #\n",
    "colors=['b','g','r','c','m','y','k','pink','violet','orange']\n",
    "for l,i in zip(b,range(len(colors))):\n",
    "    plt.plot(splits,res1[splits[i]], colors[l], label = 'leaves={}'.format(leaves[i]))\n",
    "#label = 'leaves={}'.format(leaves[i]  \n",
    "                 #colors[l]\n",
    "plt.legend(bbox_to_anchor=(1.5, 1),loc = 10)\n",
    "ax.set_xlabel('min_samples_split')\n",
    "ax.set_ylabel('Test Set Accuracy')\n",
    "plt.title('Holdout Accuracy by Hyperparameters')"
   ]
  },
  {
   "cell_type": "markdown",
   "metadata": {},
   "source": [
    "### Answer:\n",
    "Combined the accuracy plot and the AUC plot I plotted before, the best configuration is when min_samples_leaf_values is around 900, min_samples_split is around 300.\n",
    "The best accuracy is around 0.60. \n"
   ]
  },
  {
   "cell_type": "markdown",
   "metadata": {},
   "source": [
    "5\\. If you were working for a marketing department, how would you use your churn production model in a real business environment? Explain why churn prediction might be good for the business and how one might improve churn by using this model."
   ]
  },
  {
   "cell_type": "markdown",
   "metadata": {},
   "source": [
    "### Answer:\n",
    "By using this model, we can increase the prediction of churn. Thus, we can focus our effort of campaiging to people that are likely to churn, and avoid randome campign or massive campaign, which costs a lot and inefficient. Thus, with limited budget, we can improve churn better than without using this model.\n",
    "\n",
    "Moreover, by identifying top drivers of churn, we can focus our effort to specific areas. By identifying the top driver of churn as revenue and their relationship is negative, we can know that the higher one's monthly reveunue is, the less likely one would churn. Thus, on one hand, we can focus our target market to people with higher income and investiage what they need to better serve them.In this way, we can reduce churn rate without paying a huge cost to campaignining to customers that will possibly churn. On the other hand, we can focus our effort of campaigning to customers with lower revenue to prevent them from churning. Thus, the churn rate will be reduced from two perspeectives.\n",
    "\n",
    "Second, by identifying the second top drive of churn as number of days one has his/her current equipment and their relationship is positive, we can know that the longer one owns an equipment, the more likely one would churn. The reason might be that the contract of customers ends and they do not really satisfy with the company's service or rate. It is also possible that competitors provide attractive deals for customers to turn to competitors. \n",
    "Thus, our company should investigate further into the reasons why old customers churn. Maybe our company should design an attractive deal, maybe discount rate, to keep old customers. Thus, the churn rate should decrease. \n",
    "\n",
    "\n",
    "\n"
   ]
  }
 ],
 "metadata": {
  "anaconda-cloud": {},
  "kernelspec": {
   "display_name": "Python [Root]",
   "language": "python",
   "name": "Python [Root]"
  },
  "language_info": {
   "codemirror_mode": {
    "name": "ipython",
    "version": 3
   },
   "file_extension": ".py",
   "mimetype": "text/x-python",
   "name": "python",
   "nbconvert_exporter": "python",
   "pygments_lexer": "ipython3",
   "version": "3.5.2"
  }
 },
 "nbformat": 4,
 "nbformat_minor": 0
}
